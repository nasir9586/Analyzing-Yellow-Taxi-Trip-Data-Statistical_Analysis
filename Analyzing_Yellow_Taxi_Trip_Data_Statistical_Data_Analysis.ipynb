{
  "cells": [
    {
      "cell_type": "raw",
      "id": "30ddce55-b3bc-452c-9f19-fde74b1b380c",
      "metadata": {
        "id": "30ddce55-b3bc-452c-9f19-fde74b1b380c"
      },
      "source": [
        "# **Analyzing Yellow Taxi Trip Data: Statistical_Data_Analysis**"
      ]
    },
    {
      "cell_type": "markdown",
      "source": [
        "## Introduction\n",
        "The yellow taxi industry in New York City plays a pivotal role in urban transportation, serving millions of passengers annually. This project focuses on analyzing the Yellow Taxi Trip Dataset for January 2024 to uncover insights about passenger behaviors, trip characteristics, fare trends, and payment patterns. By leveraging data preprocessing and statistical analysis, we aim to identify key factors affecting trip duration, fare amounts, and trip distances while exploring the relationship between payment methods and fare dynamics.\n",
        "\n",
        "This analysis provides valuable insights for policymakers, transportation agencies, and stakeholders to optimize taxi operations, enhance passenger satisfaction, and inform pricing strategies.\n"
      ],
      "metadata": {
        "id": "0YGDL-U6VVGL"
      },
      "id": "0YGDL-U6VVGL"
    },
    {
      "cell_type": "markdown",
      "source": [
        "## Aim of the project\n",
        "To analyze the payment preferences (cash vs. card) among yellow taxi passengers in NYC with respect to fare amounts and trip distances using statistical hypothesis testing, and to identify significant differences in payment behavior and fare trends."
      ],
      "metadata": {
        "id": "UXMVPMk2WBBe"
      },
      "id": "UXMVPMk2WBBe"
    },
    {
      "cell_type": "markdown",
      "source": [
        "##Objective\n",
        "\n",
        "**Data Cleaning and Preparation:**\n",
        "Process the dataset by handling missing values, outliers, and duplicates.\n",
        "Filter and retain relevant trip data, such as valid passenger counts, payment types, and positive fare amounts.\n",
        "\n",
        "**Exploratory Data Analysis (EDA):**\n",
        "Explore the distribution of fare amounts, trip distances, and payment types (cash vs. card).\n",
        "Visualize relationships between payment types and key variables like fare amount and trip distance.\n",
        "\n",
        "**Hypothesis Testing:**\n",
        "Formulate and test the null hypothesis: \"There is no significant difference in fare amounts between cash and card payments.\"\n",
        "Conduct a two-sample t-test to compare fare amounts for cash and card payments.\n",
        "\n",
        "**Insights and Recommendations:**\n",
        "Analyze the results of the t-test to determine if a significant difference exists.\n",
        "Provide actionable insights for stakeholders to optimize payment systems and enhance customer satisfaction."
      ],
      "metadata": {
        "id": "A5xLkanMVpUX"
      },
      "id": "A5xLkanMVpUX"
    },
    {
      "cell_type": "markdown",
      "source": [
        "Importing all the necessary libraries"
      ],
      "metadata": {
        "id": "cmtSKuHrUXCI"
      },
      "id": "cmtSKuHrUXCI"
    },
    {
      "cell_type": "code",
      "execution_count": null,
      "id": "01f14953-f726-415e-a744-844db693142b",
      "metadata": {
        "id": "01f14953-f726-415e-a744-844db693142b"
      },
      "outputs": [],
      "source": [
        "import numpy as np\n",
        "import pandas as pd\n",
        "import seaborn as sns\n",
        "import matplotlib.pyplot as plt\n",
        "import scipy.stats as st\n",
        "import warnings\n",
        "warnings.filterwarnings(\"ignore\")"
      ]
    },
    {
      "cell_type": "markdown",
      "source": [
        "Loading Data and Storing it in the df Variable"
      ],
      "metadata": {
        "id": "5h_NB8vZXYGl"
      },
      "id": "5h_NB8vZXYGl"
    },
    {
      "cell_type": "code",
      "execution_count": null,
      "id": "ec5a41ab-f328-4b4d-af3d-d8b070211bd6",
      "metadata": {
        "id": "ec5a41ab-f328-4b4d-af3d-d8b070211bd6"
      },
      "outputs": [],
      "source": [
        "df = pd.read_parquet('yellow_tripdata_2024-01.parquet')"
      ]
    },
    {
      "cell_type": "code",
      "execution_count": null,
      "id": "25af2999-4e68-4d13-9945-4ce1b2fcbf53",
      "metadata": {
        "id": "25af2999-4e68-4d13-9945-4ce1b2fcbf53",
        "outputId": "6939325d-5eb2-42cb-c490-d2e000cc5884"
      },
      "outputs": [
        {
          "data": {
            "text/html": [
              "<div>\n",
              "<style scoped>\n",
              "    .dataframe tbody tr th:only-of-type {\n",
              "        vertical-align: middle;\n",
              "    }\n",
              "\n",
              "    .dataframe tbody tr th {\n",
              "        vertical-align: top;\n",
              "    }\n",
              "\n",
              "    .dataframe thead th {\n",
              "        text-align: right;\n",
              "    }\n",
              "</style>\n",
              "<table border=\"1\" class=\"dataframe\">\n",
              "  <thead>\n",
              "    <tr style=\"text-align: right;\">\n",
              "      <th></th>\n",
              "      <th>VendorID</th>\n",
              "      <th>tpep_pickup_datetime</th>\n",
              "      <th>tpep_dropoff_datetime</th>\n",
              "      <th>passenger_count</th>\n",
              "      <th>trip_distance</th>\n",
              "      <th>RatecodeID</th>\n",
              "      <th>store_and_fwd_flag</th>\n",
              "      <th>PULocationID</th>\n",
              "      <th>DOLocationID</th>\n",
              "      <th>payment_type</th>\n",
              "      <th>fare_amount</th>\n",
              "      <th>extra</th>\n",
              "      <th>mta_tax</th>\n",
              "      <th>tip_amount</th>\n",
              "      <th>tolls_amount</th>\n",
              "      <th>improvement_surcharge</th>\n",
              "      <th>total_amount</th>\n",
              "      <th>congestion_surcharge</th>\n",
              "      <th>Airport_fee</th>\n",
              "    </tr>\n",
              "  </thead>\n",
              "  <tbody>\n",
              "    <tr>\n",
              "      <th>0</th>\n",
              "      <td>2</td>\n",
              "      <td>2024-01-01 00:57:55</td>\n",
              "      <td>2024-01-01 01:17:43</td>\n",
              "      <td>1.0</td>\n",
              "      <td>1.72</td>\n",
              "      <td>1.0</td>\n",
              "      <td>N</td>\n",
              "      <td>186</td>\n",
              "      <td>79</td>\n",
              "      <td>2</td>\n",
              "      <td>17.7</td>\n",
              "      <td>1.0</td>\n",
              "      <td>0.5</td>\n",
              "      <td>0.00</td>\n",
              "      <td>0.0</td>\n",
              "      <td>1.0</td>\n",
              "      <td>22.70</td>\n",
              "      <td>2.5</td>\n",
              "      <td>0.0</td>\n",
              "    </tr>\n",
              "    <tr>\n",
              "      <th>1</th>\n",
              "      <td>1</td>\n",
              "      <td>2024-01-01 00:03:00</td>\n",
              "      <td>2024-01-01 00:09:36</td>\n",
              "      <td>1.0</td>\n",
              "      <td>1.80</td>\n",
              "      <td>1.0</td>\n",
              "      <td>N</td>\n",
              "      <td>140</td>\n",
              "      <td>236</td>\n",
              "      <td>1</td>\n",
              "      <td>10.0</td>\n",
              "      <td>3.5</td>\n",
              "      <td>0.5</td>\n",
              "      <td>3.75</td>\n",
              "      <td>0.0</td>\n",
              "      <td>1.0</td>\n",
              "      <td>18.75</td>\n",
              "      <td>2.5</td>\n",
              "      <td>0.0</td>\n",
              "    </tr>\n",
              "    <tr>\n",
              "      <th>2</th>\n",
              "      <td>1</td>\n",
              "      <td>2024-01-01 00:17:06</td>\n",
              "      <td>2024-01-01 00:35:01</td>\n",
              "      <td>1.0</td>\n",
              "      <td>4.70</td>\n",
              "      <td>1.0</td>\n",
              "      <td>N</td>\n",
              "      <td>236</td>\n",
              "      <td>79</td>\n",
              "      <td>1</td>\n",
              "      <td>23.3</td>\n",
              "      <td>3.5</td>\n",
              "      <td>0.5</td>\n",
              "      <td>3.00</td>\n",
              "      <td>0.0</td>\n",
              "      <td>1.0</td>\n",
              "      <td>31.30</td>\n",
              "      <td>2.5</td>\n",
              "      <td>0.0</td>\n",
              "    </tr>\n",
              "    <tr>\n",
              "      <th>3</th>\n",
              "      <td>1</td>\n",
              "      <td>2024-01-01 00:36:38</td>\n",
              "      <td>2024-01-01 00:44:56</td>\n",
              "      <td>1.0</td>\n",
              "      <td>1.40</td>\n",
              "      <td>1.0</td>\n",
              "      <td>N</td>\n",
              "      <td>79</td>\n",
              "      <td>211</td>\n",
              "      <td>1</td>\n",
              "      <td>10.0</td>\n",
              "      <td>3.5</td>\n",
              "      <td>0.5</td>\n",
              "      <td>2.00</td>\n",
              "      <td>0.0</td>\n",
              "      <td>1.0</td>\n",
              "      <td>17.00</td>\n",
              "      <td>2.5</td>\n",
              "      <td>0.0</td>\n",
              "    </tr>\n",
              "    <tr>\n",
              "      <th>4</th>\n",
              "      <td>1</td>\n",
              "      <td>2024-01-01 00:46:51</td>\n",
              "      <td>2024-01-01 00:52:57</td>\n",
              "      <td>1.0</td>\n",
              "      <td>0.80</td>\n",
              "      <td>1.0</td>\n",
              "      <td>N</td>\n",
              "      <td>211</td>\n",
              "      <td>148</td>\n",
              "      <td>1</td>\n",
              "      <td>7.9</td>\n",
              "      <td>3.5</td>\n",
              "      <td>0.5</td>\n",
              "      <td>3.20</td>\n",
              "      <td>0.0</td>\n",
              "      <td>1.0</td>\n",
              "      <td>16.10</td>\n",
              "      <td>2.5</td>\n",
              "      <td>0.0</td>\n",
              "    </tr>\n",
              "  </tbody>\n",
              "</table>\n",
              "</div>"
            ],
            "text/plain": [
              "   VendorID tpep_pickup_datetime tpep_dropoff_datetime  passenger_count  \\\n",
              "0         2  2024-01-01 00:57:55   2024-01-01 01:17:43              1.0   \n",
              "1         1  2024-01-01 00:03:00   2024-01-01 00:09:36              1.0   \n",
              "2         1  2024-01-01 00:17:06   2024-01-01 00:35:01              1.0   \n",
              "3         1  2024-01-01 00:36:38   2024-01-01 00:44:56              1.0   \n",
              "4         1  2024-01-01 00:46:51   2024-01-01 00:52:57              1.0   \n",
              "\n",
              "   trip_distance  RatecodeID store_and_fwd_flag  PULocationID  DOLocationID  \\\n",
              "0           1.72         1.0                  N           186            79   \n",
              "1           1.80         1.0                  N           140           236   \n",
              "2           4.70         1.0                  N           236            79   \n",
              "3           1.40         1.0                  N            79           211   \n",
              "4           0.80         1.0                  N           211           148   \n",
              "\n",
              "   payment_type  fare_amount  extra  mta_tax  tip_amount  tolls_amount  \\\n",
              "0             2         17.7    1.0      0.5        0.00           0.0   \n",
              "1             1         10.0    3.5      0.5        3.75           0.0   \n",
              "2             1         23.3    3.5      0.5        3.00           0.0   \n",
              "3             1         10.0    3.5      0.5        2.00           0.0   \n",
              "4             1          7.9    3.5      0.5        3.20           0.0   \n",
              "\n",
              "   improvement_surcharge  total_amount  congestion_surcharge  Airport_fee  \n",
              "0                    1.0         22.70                   2.5          0.0  \n",
              "1                    1.0         18.75                   2.5          0.0  \n",
              "2                    1.0         31.30                   2.5          0.0  \n",
              "3                    1.0         17.00                   2.5          0.0  \n",
              "4                    1.0         16.10                   2.5          0.0  "
            ]
          },
          "execution_count": 4,
          "metadata": {},
          "output_type": "execute_result"
        }
      ],
      "source": [
        "df.head()"
      ]
    },
    {
      "cell_type": "markdown",
      "source": [
        "Data Preprocessing"
      ],
      "metadata": {
        "id": "VLXZjJWtX_ec"
      },
      "id": "VLXZjJWtX_ec"
    },
    {
      "cell_type": "code",
      "execution_count": null,
      "id": "30c79ea2-c28d-4593-be0c-c494263d89c3",
      "metadata": {
        "id": "30c79ea2-c28d-4593-be0c-c494263d89c3",
        "outputId": "3449903a-4f8e-4b40-f4d4-5e9c289f6846"
      },
      "outputs": [
        {
          "data": {
            "text/plain": [
              "(2964624, 19)"
            ]
          },
          "execution_count": 5,
          "metadata": {},
          "output_type": "execute_result"
        }
      ],
      "source": [
        "df.shape"
      ]
    },
    {
      "cell_type": "code",
      "execution_count": null,
      "id": "fd1b896e-85b8-45b7-ad50-ce39bcc3145d",
      "metadata": {
        "id": "fd1b896e-85b8-45b7-ad50-ce39bcc3145d",
        "outputId": "e18bbdc7-0962-4d86-b846-e78b66aac808"
      },
      "outputs": [
        {
          "data": {
            "text/plain": [
              "VendorID                          int32\n",
              "tpep_pickup_datetime     datetime64[us]\n",
              "tpep_dropoff_datetime    datetime64[us]\n",
              "passenger_count                 float64\n",
              "trip_distance                   float64\n",
              "RatecodeID                      float64\n",
              "store_and_fwd_flag               object\n",
              "PULocationID                      int32\n",
              "DOLocationID                      int32\n",
              "payment_type                      int64\n",
              "fare_amount                     float64\n",
              "extra                           float64\n",
              "mta_tax                         float64\n",
              "tip_amount                      float64\n",
              "tolls_amount                    float64\n",
              "improvement_surcharge           float64\n",
              "total_amount                    float64\n",
              "congestion_surcharge            float64\n",
              "Airport_fee                     float64\n",
              "dtype: object"
            ]
          },
          "execution_count": 6,
          "metadata": {},
          "output_type": "execute_result"
        }
      ],
      "source": [
        "df.dtypes"
      ]
    },
    {
      "cell_type": "code",
      "execution_count": null,
      "id": "395613c9-0ee7-4887-9c10-e54425407525",
      "metadata": {
        "id": "395613c9-0ee7-4887-9c10-e54425407525",
        "outputId": "d11afd80-2622-48fa-e79b-822f47edfbc4"
      },
      "outputs": [
        {
          "data": {
            "text/plain": [
              "0         0 days 00:19:48\n",
              "1         0 days 00:06:36\n",
              "2         0 days 00:17:55\n",
              "3         0 days 00:08:18\n",
              "4         0 days 00:06:06\n",
              "                ...      \n",
              "2964619   0 days 00:08:37\n",
              "2964620   0 days 00:14:45\n",
              "2964621   0 days 00:19:00\n",
              "2964622   0 days 00:17:51\n",
              "2964623   0 days 00:15:05\n",
              "Name: duration, Length: 2964624, dtype: timedelta64[us]"
            ]
          },
          "execution_count": 7,
          "metadata": {},
          "output_type": "execute_result"
        }
      ],
      "source": [
        "df['duration'] =df['tpep_dropoff_datetime'] - df['tpep_pickup_datetime']\n",
        "df['duration']"
      ]
    },
    {
      "cell_type": "code",
      "execution_count": null,
      "id": "54644c3e-e393-447e-a0c9-b3a528786c1e",
      "metadata": {
        "id": "54644c3e-e393-447e-a0c9-b3a528786c1e"
      },
      "outputs": [],
      "source": [
        "df['duration'] = df['duration'].dt.total_seconds()/60"
      ]
    },
    {
      "cell_type": "code",
      "execution_count": null,
      "id": "6d0d9f4b-4145-413f-acc1-d95f9aaa4994",
      "metadata": {
        "id": "6d0d9f4b-4145-413f-acc1-d95f9aaa4994",
        "outputId": "90f34a47-004d-421f-ef7a-83ffce1aa002"
      },
      "outputs": [
        {
          "data": {
            "text/html": [
              "<div>\n",
              "<style scoped>\n",
              "    .dataframe tbody tr th:only-of-type {\n",
              "        vertical-align: middle;\n",
              "    }\n",
              "\n",
              "    .dataframe tbody tr th {\n",
              "        vertical-align: top;\n",
              "    }\n",
              "\n",
              "    .dataframe thead th {\n",
              "        text-align: right;\n",
              "    }\n",
              "</style>\n",
              "<table border=\"1\" class=\"dataframe\">\n",
              "  <thead>\n",
              "    <tr style=\"text-align: right;\">\n",
              "      <th></th>\n",
              "      <th>passenger_count</th>\n",
              "      <th>trip_distance</th>\n",
              "      <th>payment_type</th>\n",
              "      <th>fare_amount</th>\n",
              "      <th>duration</th>\n",
              "    </tr>\n",
              "  </thead>\n",
              "  <tbody>\n",
              "    <tr>\n",
              "      <th>0</th>\n",
              "      <td>1.0</td>\n",
              "      <td>1.72</td>\n",
              "      <td>2</td>\n",
              "      <td>17.70</td>\n",
              "      <td>19.800000</td>\n",
              "    </tr>\n",
              "    <tr>\n",
              "      <th>1</th>\n",
              "      <td>1.0</td>\n",
              "      <td>1.80</td>\n",
              "      <td>1</td>\n",
              "      <td>10.00</td>\n",
              "      <td>6.600000</td>\n",
              "    </tr>\n",
              "    <tr>\n",
              "      <th>2</th>\n",
              "      <td>1.0</td>\n",
              "      <td>4.70</td>\n",
              "      <td>1</td>\n",
              "      <td>23.30</td>\n",
              "      <td>17.916667</td>\n",
              "    </tr>\n",
              "    <tr>\n",
              "      <th>3</th>\n",
              "      <td>1.0</td>\n",
              "      <td>1.40</td>\n",
              "      <td>1</td>\n",
              "      <td>10.00</td>\n",
              "      <td>8.300000</td>\n",
              "    </tr>\n",
              "    <tr>\n",
              "      <th>4</th>\n",
              "      <td>1.0</td>\n",
              "      <td>0.80</td>\n",
              "      <td>1</td>\n",
              "      <td>7.90</td>\n",
              "      <td>6.100000</td>\n",
              "    </tr>\n",
              "    <tr>\n",
              "      <th>...</th>\n",
              "      <td>...</td>\n",
              "      <td>...</td>\n",
              "      <td>...</td>\n",
              "      <td>...</td>\n",
              "      <td>...</td>\n",
              "    </tr>\n",
              "    <tr>\n",
              "      <th>2964619</th>\n",
              "      <td>NaN</td>\n",
              "      <td>3.18</td>\n",
              "      <td>0</td>\n",
              "      <td>15.77</td>\n",
              "      <td>8.616667</td>\n",
              "    </tr>\n",
              "    <tr>\n",
              "      <th>2964620</th>\n",
              "      <td>NaN</td>\n",
              "      <td>4.00</td>\n",
              "      <td>0</td>\n",
              "      <td>18.40</td>\n",
              "      <td>14.750000</td>\n",
              "    </tr>\n",
              "    <tr>\n",
              "      <th>2964621</th>\n",
              "      <td>NaN</td>\n",
              "      <td>3.33</td>\n",
              "      <td>0</td>\n",
              "      <td>19.97</td>\n",
              "      <td>19.000000</td>\n",
              "    </tr>\n",
              "    <tr>\n",
              "      <th>2964622</th>\n",
              "      <td>NaN</td>\n",
              "      <td>3.06</td>\n",
              "      <td>0</td>\n",
              "      <td>23.88</td>\n",
              "      <td>17.850000</td>\n",
              "    </tr>\n",
              "    <tr>\n",
              "      <th>2964623</th>\n",
              "      <td>NaN</td>\n",
              "      <td>8.10</td>\n",
              "      <td>0</td>\n",
              "      <td>32.40</td>\n",
              "      <td>15.083333</td>\n",
              "    </tr>\n",
              "  </tbody>\n",
              "</table>\n",
              "<p>2964624 rows × 5 columns</p>\n",
              "</div>"
            ],
            "text/plain": [
              "         passenger_count  trip_distance  payment_type  fare_amount   duration\n",
              "0                    1.0           1.72             2        17.70  19.800000\n",
              "1                    1.0           1.80             1        10.00   6.600000\n",
              "2                    1.0           4.70             1        23.30  17.916667\n",
              "3                    1.0           1.40             1        10.00   8.300000\n",
              "4                    1.0           0.80             1         7.90   6.100000\n",
              "...                  ...            ...           ...          ...        ...\n",
              "2964619              NaN           3.18             0        15.77   8.616667\n",
              "2964620              NaN           4.00             0        18.40  14.750000\n",
              "2964621              NaN           3.33             0        19.97  19.000000\n",
              "2964622              NaN           3.06             0        23.88  17.850000\n",
              "2964623              NaN           8.10             0        32.40  15.083333\n",
              "\n",
              "[2964624 rows x 5 columns]"
            ]
          },
          "execution_count": 10,
          "metadata": {},
          "output_type": "execute_result"
        }
      ],
      "source": [
        "data = df[['passenger_count','trip_distance','payment_type','fare_amount','duration']]\n",
        "data"
      ]
    },
    {
      "cell_type": "code",
      "execution_count": null,
      "id": "400e85c4-62d5-4af2-b57b-ecd34f4c7ca9",
      "metadata": {
        "id": "400e85c4-62d5-4af2-b57b-ecd34f4c7ca9",
        "outputId": "eac42373-adaa-4297-9b7c-f0ce3612a668"
      },
      "outputs": [
        {
          "data": {
            "text/plain": [
              "passenger_count    140162\n",
              "trip_distance           0\n",
              "payment_type            0\n",
              "fare_amount             0\n",
              "duration                0\n",
              "dtype: int64"
            ]
          },
          "execution_count": 11,
          "metadata": {},
          "output_type": "execute_result"
        }
      ],
      "source": [
        "data.isnull().sum()"
      ]
    },
    {
      "cell_type": "code",
      "execution_count": null,
      "id": "9496a94e-1082-42d5-9e91-51ff86b3fc08",
      "metadata": {
        "id": "9496a94e-1082-42d5-9e91-51ff86b3fc08",
        "outputId": "7e9f9bef-d13b-4aa3-8b8a-f5867df0b432"
      },
      "outputs": [
        {
          "data": {
            "text/plain": [
              "4.727817085741734"
            ]
          },
          "execution_count": 12,
          "metadata": {},
          "output_type": "execute_result"
        }
      ],
      "source": [
        "(140162/len(data)*100)"
      ]
    },
    {
      "cell_type": "code",
      "execution_count": null,
      "id": "13ef5bac-7df8-43ef-b74f-036d1a985872",
      "metadata": {
        "id": "13ef5bac-7df8-43ef-b74f-036d1a985872"
      },
      "outputs": [],
      "source": [
        "data.dropna(inplace=True)"
      ]
    },
    {
      "cell_type": "code",
      "execution_count": null,
      "id": "6a5f46a7-153a-435d-b3d0-68a6a7bca729",
      "metadata": {
        "id": "6a5f46a7-153a-435d-b3d0-68a6a7bca729"
      },
      "outputs": [],
      "source": [
        "data['passenger_count']=data['passenger_count'].astype(int)"
      ]
    },
    {
      "cell_type": "code",
      "execution_count": null,
      "id": "ddc2ea9a-4ddd-4094-8df7-9f9452f34140",
      "metadata": {
        "id": "ddc2ea9a-4ddd-4094-8df7-9f9452f34140",
        "outputId": "0b2d530a-f3f3-42d5-d77c-584144648cd3"
      },
      "outputs": [
        {
          "data": {
            "text/html": [
              "<div>\n",
              "<style scoped>\n",
              "    .dataframe tbody tr th:only-of-type {\n",
              "        vertical-align: middle;\n",
              "    }\n",
              "\n",
              "    .dataframe tbody tr th {\n",
              "        vertical-align: top;\n",
              "    }\n",
              "\n",
              "    .dataframe thead th {\n",
              "        text-align: right;\n",
              "    }\n",
              "</style>\n",
              "<table border=\"1\" class=\"dataframe\">\n",
              "  <thead>\n",
              "    <tr style=\"text-align: right;\">\n",
              "      <th></th>\n",
              "      <th>passenger_count</th>\n",
              "      <th>trip_distance</th>\n",
              "      <th>payment_type</th>\n",
              "      <th>fare_amount</th>\n",
              "      <th>duration</th>\n",
              "    </tr>\n",
              "  </thead>\n",
              "  <tbody>\n",
              "    <tr>\n",
              "      <th>1028</th>\n",
              "      <td>2</td>\n",
              "      <td>0.70</td>\n",
              "      <td>1</td>\n",
              "      <td>6.5</td>\n",
              "      <td>4.816667</td>\n",
              "    </tr>\n",
              "    <tr>\n",
              "      <th>2594</th>\n",
              "      <td>2</td>\n",
              "      <td>0.75</td>\n",
              "      <td>1</td>\n",
              "      <td>5.8</td>\n",
              "      <td>3.250000</td>\n",
              "    </tr>\n",
              "    <tr>\n",
              "      <th>2795</th>\n",
              "      <td>3</td>\n",
              "      <td>0.81</td>\n",
              "      <td>1</td>\n",
              "      <td>8.6</td>\n",
              "      <td>7.983333</td>\n",
              "    </tr>\n",
              "    <tr>\n",
              "      <th>2996</th>\n",
              "      <td>1</td>\n",
              "      <td>2.06</td>\n",
              "      <td>1</td>\n",
              "      <td>12.8</td>\n",
              "      <td>11.033333</td>\n",
              "    </tr>\n",
              "    <tr>\n",
              "      <th>3386</th>\n",
              "      <td>1</td>\n",
              "      <td>1.52</td>\n",
              "      <td>1</td>\n",
              "      <td>9.3</td>\n",
              "      <td>6.633333</td>\n",
              "    </tr>\n",
              "    <tr>\n",
              "      <th>...</th>\n",
              "      <td>...</td>\n",
              "      <td>...</td>\n",
              "      <td>...</td>\n",
              "      <td>...</td>\n",
              "      <td>...</td>\n",
              "    </tr>\n",
              "    <tr>\n",
              "      <th>2824449</th>\n",
              "      <td>1</td>\n",
              "      <td>1.28</td>\n",
              "      <td>1</td>\n",
              "      <td>10.0</td>\n",
              "      <td>9.033333</td>\n",
              "    </tr>\n",
              "    <tr>\n",
              "      <th>2824450</th>\n",
              "      <td>1</td>\n",
              "      <td>0.00</td>\n",
              "      <td>2</td>\n",
              "      <td>70.0</td>\n",
              "      <td>0.116667</td>\n",
              "    </tr>\n",
              "    <tr>\n",
              "      <th>2824452</th>\n",
              "      <td>1</td>\n",
              "      <td>3.50</td>\n",
              "      <td>1</td>\n",
              "      <td>19.1</td>\n",
              "      <td>17.300000</td>\n",
              "    </tr>\n",
              "    <tr>\n",
              "      <th>2824455</th>\n",
              "      <td>1</td>\n",
              "      <td>1.94</td>\n",
              "      <td>1</td>\n",
              "      <td>11.4</td>\n",
              "      <td>8.833333</td>\n",
              "    </tr>\n",
              "    <tr>\n",
              "      <th>2824460</th>\n",
              "      <td>0</td>\n",
              "      <td>0.40</td>\n",
              "      <td>2</td>\n",
              "      <td>5.1</td>\n",
              "      <td>3.400000</td>\n",
              "    </tr>\n",
              "  </tbody>\n",
              "</table>\n",
              "<p>1141515 rows × 5 columns</p>\n",
              "</div>"
            ],
            "text/plain": [
              "         passenger_count  trip_distance  payment_type  fare_amount   duration\n",
              "1028                   2           0.70             1          6.5   4.816667\n",
              "2594                   2           0.75             1          5.8   3.250000\n",
              "2795                   3           0.81             1          8.6   7.983333\n",
              "2996                   1           2.06             1         12.8  11.033333\n",
              "3386                   1           1.52             1          9.3   6.633333\n",
              "...                  ...            ...           ...          ...        ...\n",
              "2824449                1           1.28             1         10.0   9.033333\n",
              "2824450                1           0.00             2         70.0   0.116667\n",
              "2824452                1           3.50             1         19.1  17.300000\n",
              "2824455                1           1.94             1         11.4   8.833333\n",
              "2824460                0           0.40             2          5.1   3.400000\n",
              "\n",
              "[1141515 rows x 5 columns]"
            ]
          },
          "execution_count": 15,
          "metadata": {},
          "output_type": "execute_result"
        }
      ],
      "source": [
        "data[data.duplicated()]"
      ]
    },
    {
      "cell_type": "code",
      "execution_count": null,
      "id": "cb39f102-11d6-48e5-92bc-dc0011765c9b",
      "metadata": {
        "id": "cb39f102-11d6-48e5-92bc-dc0011765c9b"
      },
      "outputs": [],
      "source": [
        "data.drop_duplicates(inplace=True)"
      ]
    },
    {
      "cell_type": "markdown",
      "source": [
        "Feature Engineering"
      ],
      "metadata": {
        "id": "rU4RtvIzYOoT"
      },
      "id": "rU4RtvIzYOoT"
    },
    {
      "cell_type": "code",
      "execution_count": null,
      "id": "03f87564-31d7-4ff4-91d2-dee152b66b05",
      "metadata": {
        "id": "03f87564-31d7-4ff4-91d2-dee152b66b05",
        "outputId": "29a65f32-c451-42bf-9619-c2b4a1eea400"
      },
      "outputs": [
        {
          "data": {
            "text/plain": [
              "passenger_count\n",
              "1    1153146\n",
              "2     315432\n",
              "3      84178\n",
              "4      49845\n",
              "5      32428\n",
              "0      26011\n",
              "6      21853\n",
              "8         45\n",
              "7          8\n",
              "9          1\n",
              "Name: count, dtype: int64"
            ]
          },
          "execution_count": 17,
          "metadata": {},
          "output_type": "execute_result"
        }
      ],
      "source": [
        "data['passenger_count'].value_counts()"
      ]
    },
    {
      "cell_type": "code",
      "execution_count": null,
      "id": "120821d7-215b-43fc-80b4-837c089ad2b8",
      "metadata": {
        "id": "120821d7-215b-43fc-80b4-837c089ad2b8",
        "outputId": "6e8f49bc-2852-4110-bc29-2d16cdf00641"
      },
      "outputs": [
        {
          "data": {
            "text/plain": [
              "payment_type\n",
              "1    1278756\n",
              "2     345591\n",
              "4      42787\n",
              "3      15813\n",
              "Name: count, dtype: int64"
            ]
          },
          "execution_count": 18,
          "metadata": {},
          "output_type": "execute_result"
        }
      ],
      "source": [
        "data['payment_type'].value_counts()"
      ]
    },
    {
      "cell_type": "code",
      "execution_count": null,
      "id": "16caa939-90b9-45d7-8752-ddcfe3ebe26e",
      "metadata": {
        "id": "16caa939-90b9-45d7-8752-ddcfe3ebe26e"
      },
      "outputs": [],
      "source": [
        "data = data[data['payment_type']<3]\n",
        "data = data[(data['passenger_count']>0) & (data['passenger_count']<6)]"
      ]
    },
    {
      "cell_type": "code",
      "execution_count": null,
      "id": "ca842c9d-763c-4318-a912-504bc71799ae",
      "metadata": {
        "id": "ca842c9d-763c-4318-a912-504bc71799ae"
      },
      "outputs": [],
      "source": [
        "data['payment_type'].replace([1,2],['card','cash'],inplace=True)"
      ]
    },
    {
      "cell_type": "code",
      "execution_count": null,
      "id": "4f6e24b5-9b94-4bb6-a3ec-11446d6d4827",
      "metadata": {
        "scrolled": true,
        "id": "4f6e24b5-9b94-4bb6-a3ec-11446d6d4827",
        "outputId": "8c8369a4-d5be-4bb8-ddc2-6674dc08d81b"
      },
      "outputs": [
        {
          "data": {
            "text/html": [
              "<div>\n",
              "<style scoped>\n",
              "    .dataframe tbody tr th:only-of-type {\n",
              "        vertical-align: middle;\n",
              "    }\n",
              "\n",
              "    .dataframe tbody tr th {\n",
              "        vertical-align: top;\n",
              "    }\n",
              "\n",
              "    .dataframe thead th {\n",
              "        text-align: right;\n",
              "    }\n",
              "</style>\n",
              "<table border=\"1\" class=\"dataframe\">\n",
              "  <thead>\n",
              "    <tr style=\"text-align: right;\">\n",
              "      <th></th>\n",
              "      <th>passenger_count</th>\n",
              "      <th>trip_distance</th>\n",
              "      <th>payment_type</th>\n",
              "      <th>fare_amount</th>\n",
              "      <th>duration</th>\n",
              "    </tr>\n",
              "  </thead>\n",
              "  <tbody>\n",
              "    <tr>\n",
              "      <th>0</th>\n",
              "      <td>1</td>\n",
              "      <td>1.72</td>\n",
              "      <td>cash</td>\n",
              "      <td>17.7</td>\n",
              "      <td>19.800000</td>\n",
              "    </tr>\n",
              "    <tr>\n",
              "      <th>1</th>\n",
              "      <td>1</td>\n",
              "      <td>1.80</td>\n",
              "      <td>card</td>\n",
              "      <td>10.0</td>\n",
              "      <td>6.600000</td>\n",
              "    </tr>\n",
              "    <tr>\n",
              "      <th>2</th>\n",
              "      <td>1</td>\n",
              "      <td>4.70</td>\n",
              "      <td>card</td>\n",
              "      <td>23.3</td>\n",
              "      <td>17.916667</td>\n",
              "    </tr>\n",
              "    <tr>\n",
              "      <th>3</th>\n",
              "      <td>1</td>\n",
              "      <td>1.40</td>\n",
              "      <td>card</td>\n",
              "      <td>10.0</td>\n",
              "      <td>8.300000</td>\n",
              "    </tr>\n",
              "    <tr>\n",
              "      <th>4</th>\n",
              "      <td>1</td>\n",
              "      <td>0.80</td>\n",
              "      <td>card</td>\n",
              "      <td>7.9</td>\n",
              "      <td>6.100000</td>\n",
              "    </tr>\n",
              "    <tr>\n",
              "      <th>...</th>\n",
              "      <td>...</td>\n",
              "      <td>...</td>\n",
              "      <td>...</td>\n",
              "      <td>...</td>\n",
              "      <td>...</td>\n",
              "    </tr>\n",
              "    <tr>\n",
              "      <th>2824456</th>\n",
              "      <td>1</td>\n",
              "      <td>7.68</td>\n",
              "      <td>card</td>\n",
              "      <td>31.0</td>\n",
              "      <td>14.416667</td>\n",
              "    </tr>\n",
              "    <tr>\n",
              "      <th>2824457</th>\n",
              "      <td>1</td>\n",
              "      <td>3.51</td>\n",
              "      <td>card</td>\n",
              "      <td>16.3</td>\n",
              "      <td>8.033333</td>\n",
              "    </tr>\n",
              "    <tr>\n",
              "      <th>2824458</th>\n",
              "      <td>1</td>\n",
              "      <td>3.36</td>\n",
              "      <td>card</td>\n",
              "      <td>18.4</td>\n",
              "      <td>16.516667</td>\n",
              "    </tr>\n",
              "    <tr>\n",
              "      <th>2824459</th>\n",
              "      <td>3</td>\n",
              "      <td>3.30</td>\n",
              "      <td>card</td>\n",
              "      <td>17.7</td>\n",
              "      <td>16.783333</td>\n",
              "    </tr>\n",
              "    <tr>\n",
              "      <th>2824461</th>\n",
              "      <td>1</td>\n",
              "      <td>1.58</td>\n",
              "      <td>card</td>\n",
              "      <td>8.6</td>\n",
              "      <td>5.766667</td>\n",
              "    </tr>\n",
              "  </tbody>\n",
              "</table>\n",
              "<p>1577569 rows × 5 columns</p>\n",
              "</div>"
            ],
            "text/plain": [
              "         passenger_count  trip_distance payment_type  fare_amount   duration\n",
              "0                      1           1.72         cash         17.7  19.800000\n",
              "1                      1           1.80         card         10.0   6.600000\n",
              "2                      1           4.70         card         23.3  17.916667\n",
              "3                      1           1.40         card         10.0   8.300000\n",
              "4                      1           0.80         card          7.9   6.100000\n",
              "...                  ...            ...          ...          ...        ...\n",
              "2824456                1           7.68         card         31.0  14.416667\n",
              "2824457                1           3.51         card         16.3   8.033333\n",
              "2824458                1           3.36         card         18.4  16.516667\n",
              "2824459                3           3.30         card         17.7  16.783333\n",
              "2824461                1           1.58         card          8.6   5.766667\n",
              "\n",
              "[1577569 rows x 5 columns]"
            ]
          },
          "execution_count": 21,
          "metadata": {},
          "output_type": "execute_result"
        }
      ],
      "source": [
        "data"
      ]
    },
    {
      "cell_type": "code",
      "execution_count": null,
      "id": "9fcc2b46-9122-4989-84aa-6f035d3079c0",
      "metadata": {
        "id": "9fcc2b46-9122-4989-84aa-6f035d3079c0",
        "outputId": "fbf4531b-50b2-407d-8ebf-b603e149283d"
      },
      "outputs": [
        {
          "data": {
            "text/html": [
              "<div>\n",
              "<style scoped>\n",
              "    .dataframe tbody tr th:only-of-type {\n",
              "        vertical-align: middle;\n",
              "    }\n",
              "\n",
              "    .dataframe tbody tr th {\n",
              "        vertical-align: top;\n",
              "    }\n",
              "\n",
              "    .dataframe thead th {\n",
              "        text-align: right;\n",
              "    }\n",
              "</style>\n",
              "<table border=\"1\" class=\"dataframe\">\n",
              "  <thead>\n",
              "    <tr style=\"text-align: right;\">\n",
              "      <th></th>\n",
              "      <th>passenger_count</th>\n",
              "      <th>trip_distance</th>\n",
              "      <th>fare_amount</th>\n",
              "      <th>duration</th>\n",
              "    </tr>\n",
              "  </thead>\n",
              "  <tbody>\n",
              "    <tr>\n",
              "      <th>count</th>\n",
              "      <td>1.577569e+06</td>\n",
              "      <td>1.577569e+06</td>\n",
              "      <td>1.577569e+06</td>\n",
              "      <td>1.577569e+06</td>\n",
              "    </tr>\n",
              "    <tr>\n",
              "      <th>mean</th>\n",
              "      <td>1.471666e+00</td>\n",
              "      <td>4.658786e+00</td>\n",
              "      <td>2.421611e+01</td>\n",
              "      <td>2.057123e+01</td>\n",
              "    </tr>\n",
              "    <tr>\n",
              "      <th>std</th>\n",
              "      <td>8.837876e-01</td>\n",
              "      <td>1.602199e+01</td>\n",
              "      <td>2.116216e+01</td>\n",
              "      <td>4.549112e+01</td>\n",
              "    </tr>\n",
              "    <tr>\n",
              "      <th>min</th>\n",
              "      <td>1.000000e+00</td>\n",
              "      <td>0.000000e+00</td>\n",
              "      <td>-8.990000e+02</td>\n",
              "      <td>-1.356667e+01</td>\n",
              "    </tr>\n",
              "    <tr>\n",
              "      <th>25%</th>\n",
              "      <td>1.000000e+00</td>\n",
              "      <td>1.400000e+00</td>\n",
              "      <td>1.140000e+01</td>\n",
              "      <td>1.013333e+01</td>\n",
              "    </tr>\n",
              "    <tr>\n",
              "      <th>50%</th>\n",
              "      <td>1.000000e+00</td>\n",
              "      <td>2.520000e+00</td>\n",
              "      <td>1.700000e+01</td>\n",
              "      <td>1.608333e+01</td>\n",
              "    </tr>\n",
              "    <tr>\n",
              "      <th>75%</th>\n",
              "      <td>2.000000e+00</td>\n",
              "      <td>5.370000e+00</td>\n",
              "      <td>2.890000e+01</td>\n",
              "      <td>2.433333e+01</td>\n",
              "    </tr>\n",
              "    <tr>\n",
              "      <th>max</th>\n",
              "      <td>5.000000e+00</td>\n",
              "      <td>1.540032e+04</td>\n",
              "      <td>2.221300e+03</td>\n",
              "      <td>9.455400e+03</td>\n",
              "    </tr>\n",
              "  </tbody>\n",
              "</table>\n",
              "</div>"
            ],
            "text/plain": [
              "       passenger_count  trip_distance   fare_amount      duration\n",
              "count     1.577569e+06   1.577569e+06  1.577569e+06  1.577569e+06\n",
              "mean      1.471666e+00   4.658786e+00  2.421611e+01  2.057123e+01\n",
              "std       8.837876e-01   1.602199e+01  2.116216e+01  4.549112e+01\n",
              "min       1.000000e+00   0.000000e+00 -8.990000e+02 -1.356667e+01\n",
              "25%       1.000000e+00   1.400000e+00  1.140000e+01  1.013333e+01\n",
              "50%       1.000000e+00   2.520000e+00  1.700000e+01  1.608333e+01\n",
              "75%       2.000000e+00   5.370000e+00  2.890000e+01  2.433333e+01\n",
              "max       5.000000e+00   1.540032e+04  2.221300e+03  9.455400e+03"
            ]
          },
          "execution_count": 22,
          "metadata": {},
          "output_type": "execute_result"
        }
      ],
      "source": [
        "data.describe()"
      ]
    },
    {
      "cell_type": "code",
      "execution_count": null,
      "id": "ada2e4f4-fa7d-49d4-8d20-b27f306776eb",
      "metadata": {
        "id": "ada2e4f4-fa7d-49d4-8d20-b27f306776eb"
      },
      "outputs": [],
      "source": [
        "data = data[data['fare_amount']>0]\n",
        "data = data[data['trip_distance']>0]\n",
        "data = data[data['duration']>0]"
      ]
    },
    {
      "cell_type": "code",
      "execution_count": null,
      "id": "9189e128-3425-4bfa-9469-886303c794e8",
      "metadata": {
        "id": "9189e128-3425-4bfa-9469-886303c794e8",
        "outputId": "09fc9ad7-5031-44ce-8896-b9d36021f0cb"
      },
      "outputs": [
        {
          "data": {
            "text/html": [
              "<div>\n",
              "<style scoped>\n",
              "    .dataframe tbody tr th:only-of-type {\n",
              "        vertical-align: middle;\n",
              "    }\n",
              "\n",
              "    .dataframe tbody tr th {\n",
              "        vertical-align: top;\n",
              "    }\n",
              "\n",
              "    .dataframe thead th {\n",
              "        text-align: right;\n",
              "    }\n",
              "</style>\n",
              "<table border=\"1\" class=\"dataframe\">\n",
              "  <thead>\n",
              "    <tr style=\"text-align: right;\">\n",
              "      <th></th>\n",
              "      <th>passenger_count</th>\n",
              "      <th>trip_distance</th>\n",
              "      <th>fare_amount</th>\n",
              "      <th>duration</th>\n",
              "    </tr>\n",
              "  </thead>\n",
              "  <tbody>\n",
              "    <tr>\n",
              "      <th>count</th>\n",
              "      <td>1.554774e+06</td>\n",
              "      <td>1.554774e+06</td>\n",
              "      <td>1.554774e+06</td>\n",
              "      <td>1.554774e+06</td>\n",
              "    </tr>\n",
              "    <tr>\n",
              "      <th>mean</th>\n",
              "      <td>1.472369e+00</td>\n",
              "      <td>4.708671e+00</td>\n",
              "      <td>2.430405e+01</td>\n",
              "      <td>2.065956e+01</td>\n",
              "    </tr>\n",
              "    <tr>\n",
              "      <th>std</th>\n",
              "      <td>8.846589e-01</td>\n",
              "      <td>1.612690e+01</td>\n",
              "      <td>2.049635e+01</td>\n",
              "      <td>4.545995e+01</td>\n",
              "    </tr>\n",
              "    <tr>\n",
              "      <th>min</th>\n",
              "      <td>1.000000e+00</td>\n",
              "      <td>1.000000e-02</td>\n",
              "      <td>1.000000e-02</td>\n",
              "      <td>1.666667e-02</td>\n",
              "    </tr>\n",
              "    <tr>\n",
              "      <th>25%</th>\n",
              "      <td>1.000000e+00</td>\n",
              "      <td>1.440000e+00</td>\n",
              "      <td>1.140000e+01</td>\n",
              "      <td>1.023333e+01</td>\n",
              "    </tr>\n",
              "    <tr>\n",
              "      <th>50%</th>\n",
              "      <td>1.000000e+00</td>\n",
              "      <td>2.560000e+00</td>\n",
              "      <td>1.700000e+01</td>\n",
              "      <td>1.615000e+01</td>\n",
              "    </tr>\n",
              "    <tr>\n",
              "      <th>75%</th>\n",
              "      <td>2.000000e+00</td>\n",
              "      <td>5.430000e+00</td>\n",
              "      <td>2.890000e+01</td>\n",
              "      <td>2.436667e+01</td>\n",
              "    </tr>\n",
              "    <tr>\n",
              "      <th>max</th>\n",
              "      <td>5.000000e+00</td>\n",
              "      <td>1.540032e+04</td>\n",
              "      <td>2.221300e+03</td>\n",
              "      <td>9.455400e+03</td>\n",
              "    </tr>\n",
              "  </tbody>\n",
              "</table>\n",
              "</div>"
            ],
            "text/plain": [
              "       passenger_count  trip_distance   fare_amount      duration\n",
              "count     1.554774e+06   1.554774e+06  1.554774e+06  1.554774e+06\n",
              "mean      1.472369e+00   4.708671e+00  2.430405e+01  2.065956e+01\n",
              "std       8.846589e-01   1.612690e+01  2.049635e+01  4.545995e+01\n",
              "min       1.000000e+00   1.000000e-02  1.000000e-02  1.666667e-02\n",
              "25%       1.000000e+00   1.440000e+00  1.140000e+01  1.023333e+01\n",
              "50%       1.000000e+00   2.560000e+00  1.700000e+01  1.615000e+01\n",
              "75%       2.000000e+00   5.430000e+00  2.890000e+01  2.436667e+01\n",
              "max       5.000000e+00   1.540032e+04  2.221300e+03  9.455400e+03"
            ]
          },
          "execution_count": 24,
          "metadata": {},
          "output_type": "execute_result"
        }
      ],
      "source": [
        "data.describe()"
      ]
    },
    {
      "cell_type": "markdown",
      "source": [
        "\n",
        "Exploratory Data Analysis"
      ],
      "metadata": {
        "id": "BCRTl0AuYRwH"
      },
      "id": "BCRTl0AuYRwH"
    },
    {
      "cell_type": "code",
      "execution_count": null,
      "id": "ac0e9fd2-d032-4c46-9241-c8eb6b4f9fd5",
      "metadata": {
        "id": "ac0e9fd2-d032-4c46-9241-c8eb6b4f9fd5",
        "outputId": "2f319da8-cbeb-42a4-bd4b-62410655c911"
      },
      "outputs": [
        {
          "data": {
            "text/plain": [
              "(array([1.554142e+06, 5.880000e+02, 3.400000e+01, 6.000000e+00,\n",
              "        2.000000e+00, 0.000000e+00, 0.000000e+00, 1.000000e+00,\n",
              "        0.000000e+00, 1.000000e+00]),\n",
              " array([1.000000e-02, 2.221390e+02, 4.442680e+02, 6.663970e+02,\n",
              "        8.885260e+02, 1.110655e+03, 1.332784e+03, 1.554913e+03,\n",
              "        1.777042e+03, 1.999171e+03, 2.221300e+03]),\n",
              " <BarContainer object of 10 artists>)"
            ]
          },
          "execution_count": 25,
          "metadata": {},
          "output_type": "execute_result"
        },
        {
          "data": {
            "image/png": "[encoded data removed]",
            "text/plain": [
              "<Figure size 640x480 with 1 Axes>"
            ]
          },
          "metadata": {},
          "output_type": "display_data"
        }
      ],
      "source": [
        "plt.hist(data['fare_amount'])"
      ]
    },
    {
      "cell_type": "code",
      "execution_count": null,
      "id": "18ad4399-cff6-4610-83c9-b19c2e2523bf",
      "metadata": {
        "id": "18ad4399-cff6-4610-83c9-b19c2e2523bf",
        "outputId": "cb64c7f6-cb4a-406a-e36c-f0bef3f05ea5"
      },
      "outputs": [
        {
          "data": {
            "text/plain": [
              "{'whiskers': [<matplotlib.lines.Line2D at 0x12ebb3f5640>,\n",
              "  <matplotlib.lines.Line2D at 0x12ebb4607a0>],\n",
              " 'caps': [<matplotlib.lines.Line2D at 0x12ebb460a70>,\n",
              "  <matplotlib.lines.Line2D at 0x12ebb460d40>],\n",
              " 'boxes': [<matplotlib.lines.Line2D at 0x12ebb3f6360>],\n",
              " 'medians': [<matplotlib.lines.Line2D at 0x12ebb461040>],\n",
              " 'fliers': [<matplotlib.lines.Line2D at 0x12ebb4612b0>],\n",
              " 'means': []}"
            ]
          },
          "execution_count": 26,
          "metadata": {},
          "output_type": "execute_result"
        },
        {
          "data": {
            "image/png": "[encoded data removed]",
            "text/plain": [
              "<Figure size 640x480 with 1 Axes>"
            ]
          },
          "metadata": {},
          "output_type": "display_data"
        }
      ],
      "source": [
        "plt.boxplot(data['fare_amount'])"
      ]
    },
    {
      "cell_type": "code",
      "execution_count": null,
      "id": "23b04851-9ef4-4d61-8c28-dbaeab1a061a",
      "metadata": {
        "id": "23b04851-9ef4-4d61-8c28-dbaeab1a061a",
        "outputId": "fb3ffdd3-a822-41c8-a2a2-1c4c00b386e4"
      },
      "outputs": [
        {
          "data": {
            "text/plain": [
              "{'whiskers': [<matplotlib.lines.Line2D at 0x12ebb4ae2d0>,\n",
              "  <matplotlib.lines.Line2D at 0x12ebb4ae5d0>],\n",
              " 'caps': [<matplotlib.lines.Line2D at 0x12ebb4ae8d0>,\n",
              "  <matplotlib.lines.Line2D at 0x12ebb4aebd0>],\n",
              " 'boxes': [<matplotlib.lines.Line2D at 0x12ebb4ae000>],\n",
              " 'medians': [<matplotlib.lines.Line2D at 0x12ebb4aeed0>],\n",
              " 'fliers': [<matplotlib.lines.Line2D at 0x12ebb4af1a0>],\n",
              " 'means': []}"
            ]
          },
          "execution_count": 27,
          "metadata": {},
          "output_type": "execute_result"
        },
        {
          "data": {
            "image/png": "[encoded data removed]",
            "text/plain": [
              "<Figure size 640x480 with 1 Axes>"
            ]
          },
          "metadata": {},
          "output_type": "display_data"
        }
      ],
      "source": [
        "plt.boxplot(data['trip_distance'])"
      ]
    },
    {
      "cell_type": "code",
      "execution_count": null,
      "id": "2be5a6d2-cb96-454f-a3da-5ffd1b59863f",
      "metadata": {
        "id": "2be5a6d2-cb96-454f-a3da-5ffd1b59863f",
        "outputId": "1e281865-2272-420b-d02b-45c2e5383d02"
      },
      "outputs": [
        {
          "data": {
            "text/plain": [
              "{'whiskers': [<matplotlib.lines.Line2D at 0x12ebb512bd0>,\n",
              "  <matplotlib.lines.Line2D at 0x12ebb512ea0>],\n",
              " 'caps': [<matplotlib.lines.Line2D at 0x12ebb513140>,\n",
              "  <matplotlib.lines.Line2D at 0x12ebb5133e0>],\n",
              " 'boxes': [<matplotlib.lines.Line2D at 0x12ebb512930>],\n",
              " 'medians': [<matplotlib.lines.Line2D at 0x12ebb5136b0>],\n",
              " 'fliers': [<matplotlib.lines.Line2D at 0x12ebb513950>],\n",
              " 'means': []}"
            ]
          },
          "execution_count": 28,
          "metadata": {},
          "output_type": "execute_result"
        },
        {
          "data": {
            "image/png": "[encoded data removed]",
            "text/plain": [
              "<Figure size 640x480 with 1 Axes>"
            ]
          },
          "metadata": {},
          "output_type": "display_data"
        }
      ],
      "source": [
        "plt.boxplot(data['duration'])"
      ]
    },
    {
      "cell_type": "code",
      "execution_count": null,
      "id": "24930523-fcea-4744-bfe9-43ef40f4e6af",
      "metadata": {
        "id": "24930523-fcea-4744-bfe9-43ef40f4e6af"
      },
      "outputs": [],
      "source": [
        "for col in ['trip_distance','fare_amount','duration']:\n",
        "    q1 = data[col].quantile(0.25)\n",
        "    q3 = data[col].quantile(0.75)\n",
        "    IQR = q3 - q1\n",
        "    lower_bond = q1 - 1.5*(IQR)\n",
        "    upper_bond = q3 + 1.5*(IQR)\n",
        "\n",
        "    data = data[(data[col]>=lower_bond) & (data[col]<=upper_bond)]"
      ]
    },
    {
      "cell_type": "code",
      "execution_count": null,
      "id": "ed329d85-fbfb-4c28-8b35-682093d1e0da",
      "metadata": {
        "id": "ed329d85-fbfb-4c28-8b35-682093d1e0da",
        "outputId": "da4fc111-8b2d-40e0-fe0f-3238fee581e0"
      },
      "outputs": [
        {
          "data": {
            "text/html": [
              "<div>\n",
              "<style scoped>\n",
              "    .dataframe tbody tr th:only-of-type {\n",
              "        vertical-align: middle;\n",
              "    }\n",
              "\n",
              "    .dataframe tbody tr th {\n",
              "        vertical-align: top;\n",
              "    }\n",
              "\n",
              "    .dataframe thead th {\n",
              "        text-align: right;\n",
              "    }\n",
              "</style>\n",
              "<table border=\"1\" class=\"dataframe\">\n",
              "  <thead>\n",
              "    <tr style=\"text-align: right;\">\n",
              "      <th></th>\n",
              "      <th>passenger_count</th>\n",
              "      <th>trip_distance</th>\n",
              "      <th>payment_type</th>\n",
              "      <th>fare_amount</th>\n",
              "      <th>duration</th>\n",
              "    </tr>\n",
              "  </thead>\n",
              "  <tbody>\n",
              "    <tr>\n",
              "      <th>0</th>\n",
              "      <td>1</td>\n",
              "      <td>1.72</td>\n",
              "      <td>cash</td>\n",
              "      <td>17.7</td>\n",
              "      <td>19.800000</td>\n",
              "    </tr>\n",
              "    <tr>\n",
              "      <th>1</th>\n",
              "      <td>1</td>\n",
              "      <td>1.80</td>\n",
              "      <td>card</td>\n",
              "      <td>10.0</td>\n",
              "      <td>6.600000</td>\n",
              "    </tr>\n",
              "    <tr>\n",
              "      <th>2</th>\n",
              "      <td>1</td>\n",
              "      <td>4.70</td>\n",
              "      <td>card</td>\n",
              "      <td>23.3</td>\n",
              "      <td>17.916667</td>\n",
              "    </tr>\n",
              "    <tr>\n",
              "      <th>3</th>\n",
              "      <td>1</td>\n",
              "      <td>1.40</td>\n",
              "      <td>card</td>\n",
              "      <td>10.0</td>\n",
              "      <td>8.300000</td>\n",
              "    </tr>\n",
              "    <tr>\n",
              "      <th>4</th>\n",
              "      <td>1</td>\n",
              "      <td>0.80</td>\n",
              "      <td>card</td>\n",
              "      <td>7.9</td>\n",
              "      <td>6.100000</td>\n",
              "    </tr>\n",
              "    <tr>\n",
              "      <th>...</th>\n",
              "      <td>...</td>\n",
              "      <td>...</td>\n",
              "      <td>...</td>\n",
              "      <td>...</td>\n",
              "      <td>...</td>\n",
              "    </tr>\n",
              "    <tr>\n",
              "      <th>2824456</th>\n",
              "      <td>1</td>\n",
              "      <td>7.68</td>\n",
              "      <td>card</td>\n",
              "      <td>31.0</td>\n",
              "      <td>14.416667</td>\n",
              "    </tr>\n",
              "    <tr>\n",
              "      <th>2824457</th>\n",
              "      <td>1</td>\n",
              "      <td>3.51</td>\n",
              "      <td>card</td>\n",
              "      <td>16.3</td>\n",
              "      <td>8.033333</td>\n",
              "    </tr>\n",
              "    <tr>\n",
              "      <th>2824458</th>\n",
              "      <td>1</td>\n",
              "      <td>3.36</td>\n",
              "      <td>card</td>\n",
              "      <td>18.4</td>\n",
              "      <td>16.516667</td>\n",
              "    </tr>\n",
              "    <tr>\n",
              "      <th>2824459</th>\n",
              "      <td>3</td>\n",
              "      <td>3.30</td>\n",
              "      <td>card</td>\n",
              "      <td>17.7</td>\n",
              "      <td>16.783333</td>\n",
              "    </tr>\n",
              "    <tr>\n",
              "      <th>2824461</th>\n",
              "      <td>1</td>\n",
              "      <td>1.58</td>\n",
              "      <td>card</td>\n",
              "      <td>8.6</td>\n",
              "      <td>5.766667</td>\n",
              "    </tr>\n",
              "  </tbody>\n",
              "</table>\n",
              "<p>1304004 rows × 5 columns</p>\n",
              "</div>"
            ],
            "text/plain": [
              "         passenger_count  trip_distance payment_type  fare_amount   duration\n",
              "0                      1           1.72         cash         17.7  19.800000\n",
              "1                      1           1.80         card         10.0   6.600000\n",
              "2                      1           4.70         card         23.3  17.916667\n",
              "3                      1           1.40         card         10.0   8.300000\n",
              "4                      1           0.80         card          7.9   6.100000\n",
              "...                  ...            ...          ...          ...        ...\n",
              "2824456                1           7.68         card         31.0  14.416667\n",
              "2824457                1           3.51         card         16.3   8.033333\n",
              "2824458                1           3.36         card         18.4  16.516667\n",
              "2824459                3           3.30         card         17.7  16.783333\n",
              "2824461                1           1.58         card          8.6   5.766667\n",
              "\n",
              "[1304004 rows x 5 columns]"
            ]
          },
          "execution_count": 30,
          "metadata": {},
          "output_type": "execute_result"
        }
      ],
      "source": [
        "data"
      ]
    },
    {
      "cell_type": "code",
      "execution_count": null,
      "id": "357f7f21-cef4-4d33-b8cc-0c7da97bda24",
      "metadata": {
        "id": "357f7f21-cef4-4d33-b8cc-0c7da97bda24",
        "outputId": "b1472940-0e07-43d6-f93c-1bbebffb36ca"
      },
      "outputs": [
        {
          "data": {
            "image/png": "[encoded data removed]",
            "text/plain": [
              "<Figure size 1500x500 with 2 Axes>"
            ]
          },
          "metadata": {},
          "output_type": "display_data"
        }
      ],
      "source": [
        "plt.figure(figsize=(15,5))\n",
        "plt.subplot(1,2,1)\n",
        "plt.title(\"Payment Type Distribution Vs Fare Amount based on Cash and Card\")\n",
        "plt.hist(data[data['payment_type']=='card']['fare_amount'],bins=20,edgecolor='k',label='Card')\n",
        "plt.hist(data[data['payment_type']=='cash']['fare_amount'],edgecolor='k',label='Cash')\n",
        "plt.xlabel(\"Fare Amount\")\n",
        "plt.ylabel(\"Frequency\")\n",
        "plt.subplot(1,2,2)\n",
        "plt.title(\"Payment Type Distribution Vs Trip Distance based on Cash and Card\")\n",
        "plt.hist(data[data['payment_type']=='card']['trip_distance'],bins=20,edgecolor='k',label='Card')\n",
        "plt.hist(data[data['payment_type']=='cash']['trip_distance'],edgecolor='k',label='Cash')\n",
        "plt.xlabel(\"Fare Amount\")\n",
        "plt.ylabel(\"Frequency\")\n",
        "plt.legend()\n",
        "plt.show()"
      ]
    },
    {
      "cell_type": "code",
      "execution_count": null,
      "id": "03483ca5-2561-451b-8123-feb262812f0d",
      "metadata": {
        "id": "03483ca5-2561-451b-8123-feb262812f0d",
        "outputId": "dd983246-3b4b-4c47-891e-94615a9e796a"
      },
      "outputs": [
        {
          "data": {
            "text/html": [
              "<div>\n",
              "<style scoped>\n",
              "    .dataframe tbody tr th:only-of-type {\n",
              "        vertical-align: middle;\n",
              "    }\n",
              "\n",
              "    .dataframe tbody tr th {\n",
              "        vertical-align: top;\n",
              "    }\n",
              "\n",
              "    .dataframe thead tr th {\n",
              "        text-align: left;\n",
              "    }\n",
              "\n",
              "    .dataframe thead tr:last-of-type th {\n",
              "        text-align: right;\n",
              "    }\n",
              "</style>\n",
              "<table border=\"1\" class=\"dataframe\">\n",
              "  <thead>\n",
              "    <tr>\n",
              "      <th></th>\n",
              "      <th colspan=\"2\" halign=\"left\">fare_amount</th>\n",
              "      <th colspan=\"2\" halign=\"left\">trip_distance</th>\n",
              "    </tr>\n",
              "    <tr>\n",
              "      <th></th>\n",
              "      <th>mean</th>\n",
              "      <th>std</th>\n",
              "      <th>mean</th>\n",
              "      <th>std</th>\n",
              "    </tr>\n",
              "    <tr>\n",
              "      <th>payment_type</th>\n",
              "      <th></th>\n",
              "      <th></th>\n",
              "      <th></th>\n",
              "      <th></th>\n",
              "    </tr>\n",
              "  </thead>\n",
              "  <tbody>\n",
              "    <tr>\n",
              "      <th>card</th>\n",
              "      <td>17.690486</td>\n",
              "      <td>8.531799</td>\n",
              "      <td>2.931181</td>\n",
              "      <td>2.199094</td>\n",
              "    </tr>\n",
              "    <tr>\n",
              "      <th>cash</th>\n",
              "      <td>15.090543</td>\n",
              "      <td>8.145765</td>\n",
              "      <td>2.378371</td>\n",
              "      <td>2.039686</td>\n",
              "    </tr>\n",
              "  </tbody>\n",
              "</table>\n",
              "</div>"
            ],
            "text/plain": [
              "             fare_amount           trip_distance          \n",
              "                    mean       std          mean       std\n",
              "payment_type                                              \n",
              "card           17.690486  8.531799      2.931181  2.199094\n",
              "cash           15.090543  8.145765      2.378371  2.039686"
            ]
          },
          "execution_count": 107,
          "metadata": {},
          "output_type": "execute_result"
        }
      ],
      "source": [
        "data.groupby('payment_type').agg({'fare_amount':['mean','std'],'trip_distance':['mean','std']})"
      ]
    },
    {
      "cell_type": "code",
      "execution_count": null,
      "id": "14d5d550-409a-421d-b120-a06f744f16ac",
      "metadata": {
        "id": "14d5d550-409a-421d-b120-a06f744f16ac",
        "outputId": "24d1a191-5c79-4c78-98db-ce8e305da3ab"
      },
      "outputs": [
        {
          "data": {
            "text/html": [
              "<div>\n",
              "<style scoped>\n",
              "    .dataframe tbody tr th:only-of-type {\n",
              "        vertical-align: middle;\n",
              "    }\n",
              "\n",
              "    .dataframe tbody tr th {\n",
              "        vertical-align: top;\n",
              "    }\n",
              "\n",
              "    .dataframe thead th {\n",
              "        text-align: right;\n",
              "    }\n",
              "</style>\n",
              "<table border=\"1\" class=\"dataframe\">\n",
              "  <thead>\n",
              "    <tr style=\"text-align: right;\">\n",
              "      <th></th>\n",
              "      <th></th>\n",
              "      <th>passenger_count</th>\n",
              "    </tr>\n",
              "    <tr>\n",
              "      <th>payment_type</th>\n",
              "      <th>passenger_count</th>\n",
              "      <th></th>\n",
              "    </tr>\n",
              "  </thead>\n",
              "  <tbody>\n",
              "    <tr>\n",
              "      <th rowspan=\"5\" valign=\"top\">card</th>\n",
              "      <th>1</th>\n",
              "      <td>706477</td>\n",
              "    </tr>\n",
              "    <tr>\n",
              "      <th>2</th>\n",
              "      <td>201414</td>\n",
              "    </tr>\n",
              "    <tr>\n",
              "      <th>3</th>\n",
              "      <td>56684</td>\n",
              "    </tr>\n",
              "    <tr>\n",
              "      <th>4</th>\n",
              "      <td>30082</td>\n",
              "    </tr>\n",
              "    <tr>\n",
              "      <th>5</th>\n",
              "      <td>24400</td>\n",
              "    </tr>\n",
              "    <tr>\n",
              "      <th rowspan=\"5\" valign=\"top\">cash</th>\n",
              "      <th>1</th>\n",
              "      <td>203268</td>\n",
              "    </tr>\n",
              "    <tr>\n",
              "      <th>2</th>\n",
              "      <td>52523</td>\n",
              "    </tr>\n",
              "    <tr>\n",
              "      <th>3</th>\n",
              "      <td>14015</td>\n",
              "    </tr>\n",
              "    <tr>\n",
              "      <th>4</th>\n",
              "      <td>10148</td>\n",
              "    </tr>\n",
              "    <tr>\n",
              "      <th>5</th>\n",
              "      <td>4993</td>\n",
              "    </tr>\n",
              "  </tbody>\n",
              "</table>\n",
              "</div>"
            ],
            "text/plain": [
              "                              passenger_count\n",
              "payment_type passenger_count                 \n",
              "card         1                         706477\n",
              "             2                         201414\n",
              "             3                          56684\n",
              "             4                          30082\n",
              "             5                          24400\n",
              "cash         1                         203268\n",
              "             2                          52523\n",
              "             3                          14015\n",
              "             4                          10148\n",
              "             5                           4993"
            ]
          },
          "execution_count": 115,
          "metadata": {},
          "output_type": "execute_result"
        }
      ],
      "source": [
        "data.groupby(['payment_type','passenger_count'])[['passenger_count']].count()"
      ]
    },
    {
      "cell_type": "code",
      "execution_count": null,
      "id": "a9739a11-e085-4009-bee2-e34d5bc23b43",
      "metadata": {
        "id": "a9739a11-e085-4009-bee2-e34d5bc23b43",
        "outputId": "4aa736b7-a2d6-42d0-8116-330a2d248445"
      },
      "outputs": [
        {
          "data": {
            "image/png": "[encoded data removed]",
            "text/plain": [
              "<Figure size 640x480 with 1 Axes>"
            ]
          },
          "metadata": {},
          "output_type": "display_data"
        }
      ],
      "source": [
        "import statsmodels.api as sm\n",
        "sm.qqplot(data['fare_amount'],line='45')\n",
        "plt.show()"
      ]
    },
    {
      "cell_type": "code",
      "execution_count": null,
      "id": "c828b969-e8c8-4546-bc46-ad9c0efc14cf",
      "metadata": {
        "id": "c828b969-e8c8-4546-bc46-ad9c0efc14cf"
      },
      "outputs": [],
      "source": [
        "card_sample = data[data['payment_type']=='card']['fare_amount']\n",
        "cash_sample = data[data['payment_type']=='cash']['fare_amount']"
      ]
    },
    {
      "cell_type": "markdown",
      "source": [
        "Hypothesis Testing"
      ],
      "metadata": {
        "id": "3sDS430sYaMs"
      },
      "id": "3sDS430sYaMs"
    },
    {
      "cell_type": "code",
      "execution_count": null,
      "id": "8728cddc-c738-41a9-8944-fc94fe5567c8",
      "metadata": {
        "id": "8728cddc-c738-41a9-8944-fc94fe5567c8",
        "outputId": "0b302ea9-7d9c-4d48-e12d-8a0966afe803"
      },
      "outputs": [
        {
          "name": "stdout",
          "output_type": "stream",
          "text": [
            "T Statistics value is : 149.04517637070035  &  P-Value is : 0.0\n"
          ]
        }
      ],
      "source": [
        "t_stats,p_value = st.ttest_ind(a = card_sample,b = cash_sample,equal_var = False)\n",
        "print(\"T Statistics value is :\",t_stats,\" & \",\"P-Value is :\",p_value)"
      ]
    },
    {
      "cell_type": "markdown",
      "source": [
        "## Conclusion\n",
        "**Hypothesis Testing Results:**\n",
        "The two-sample t-test yielded a T-Statistics value of 149.05 and a P-Value of 0.0. Since the P-Value is significantly less than 0.05, we reject the null hypothesis and conclude that there is a statistically significant difference in fare amounts between cash and card payments.\n",
        "\n",
        "**Key Insights:**\n",
        "\n",
        "Card payments are the preferred method, especially for trips with higher fare amounts and longer distances.\n",
        "Cash payments are more likely for shorter trips or lower fare amounts, indicating possible behavioral differences among passengers.\n",
        "\n",
        "**Implications:**\n",
        "The results suggest that offering incentives for card payments could enhance passenger convenience and streamline operations.\n",
        "Operators can tailor marketing strategies and service improvements based on passenger payment preferences.\n",
        "This project demonstrates that statistical hypothesis testing is a powerful tool for uncovering meaningful patterns in transactional data, enabling data-driven decisions to improve operational efficiency and passenger satisfaction."
      ],
      "metadata": {
        "id": "0E-Lv_mxXjgW"
      },
      "id": "0E-Lv_mxXjgW"
    }
  ],
  "metadata": {
    "kernelspec": {
      "display_name": "Python 3 (ipykernel)",
      "language": "python",
      "name": "python3"
    },
    "language_info": {
      "codemirror_mode": {
        "name": "ipython",
        "version": 3
      },
      "file_extension": ".py",
      "mimetype": "text/x-python",
      "name": "python",
      "nbconvert_exporter": "python",
      "pygments_lexer": "ipython3",
      "version": "3.12.4"
    },
    "colab": {
      "provenance": []
    }
  },
  "nbformat": 4,
  "nbformat_minor": 5
}